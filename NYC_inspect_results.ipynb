{
 "cells": [
  {
   "cell_type": "code",
   "execution_count": 3,
   "metadata": {},
   "outputs": [],
   "source": [
    "import pandas as pd\n",
    "import numpy as np"
   ]
  },
  {
   "cell_type": "code",
   "execution_count": 6,
   "metadata": {},
   "outputs": [],
   "source": [
    "file = 'DOHMH_New_York_City_Restaurant_Inspection_Results.csv'"
   ]
  },
  {
   "cell_type": "code",
   "execution_count": 19,
   "metadata": {},
   "outputs": [
    {
     "data": {
      "text/plain": [
       "Index(['CAMIS', 'DBA', 'BORO', 'BUILDING', 'STREET', 'ZIPCODE', 'PHONE',\n",
       "       'CUISINE DESCRIPTION', 'INSPECTION DATE', 'ACTION', 'VIOLATION CODE',\n",
       "       'VIOLATION DESCRIPTION', 'CRITICAL FLAG', 'SCORE', 'GRADE',\n",
       "       'GRADE DATE', 'RECORD DATE', 'INSPECTION TYPE'],\n",
       "      dtype='object')"
      ]
     },
     "execution_count": 19,
     "metadata": {},
     "output_type": "execute_result"
    }
   ],
   "source": [
    "nyc_inspect = pd.read_csv(file, encoding=\"ISO-8859-1\")\n",
    "type(nyc_inspect)\n",
    "nyc_inspect.columns"
   ]
  },
  {
   "cell_type": "code",
   "execution_count": 20,
   "metadata": {},
   "outputs": [
    {
     "data": {
      "text/html": [
       "<div>\n",
       "<style scoped>\n",
       "    .dataframe tbody tr th:only-of-type {\n",
       "        vertical-align: middle;\n",
       "    }\n",
       "\n",
       "    .dataframe tbody tr th {\n",
       "        vertical-align: top;\n",
       "    }\n",
       "\n",
       "    .dataframe thead th {\n",
       "        text-align: right;\n",
       "    }\n",
       "</style>\n",
       "<table border=\"1\" class=\"dataframe\">\n",
       "  <thead>\n",
       "    <tr style=\"text-align: right;\">\n",
       "      <th></th>\n",
       "      <th>CAMIS</th>\n",
       "      <th>DBA</th>\n",
       "      <th>BORO</th>\n",
       "      <th>BUILDING</th>\n",
       "      <th>STREET</th>\n",
       "      <th>ZIPCODE</th>\n",
       "      <th>PHONE</th>\n",
       "      <th>CUISINE DESCRIPTION</th>\n",
       "      <th>INSPECTION DATE</th>\n",
       "      <th>ACTION</th>\n",
       "      <th>VIOLATION CODE</th>\n",
       "      <th>VIOLATION DESCRIPTION</th>\n",
       "      <th>CRITICAL FLAG</th>\n",
       "      <th>SCORE</th>\n",
       "      <th>GRADE</th>\n",
       "      <th>GRADE DATE</th>\n",
       "      <th>RECORD DATE</th>\n",
       "      <th>INSPECTION TYPE</th>\n",
       "    </tr>\n",
       "  </thead>\n",
       "  <tbody>\n",
       "    <tr>\n",
       "      <th>0</th>\n",
       "      <td>50035269</td>\n",
       "      <td>FRESCO TORTILLAS</td>\n",
       "      <td>QUEENS</td>\n",
       "      <td>3112</td>\n",
       "      <td>36TH AVE</td>\n",
       "      <td>11106.0</td>\n",
       "      <td>7182679536</td>\n",
       "      <td>Tex-Mex</td>\n",
       "      <td>02/15/2019</td>\n",
       "      <td>Violations were cited in the following area(s).</td>\n",
       "      <td>10F</td>\n",
       "      <td>Non-food contact surface improperly constructe...</td>\n",
       "      <td>Not Critical</td>\n",
       "      <td>9.0</td>\n",
       "      <td>A</td>\n",
       "      <td>02/15/2019</td>\n",
       "      <td>03/20/2019</td>\n",
       "      <td>Cycle Inspection / Initial Inspection</td>\n",
       "    </tr>\n",
       "    <tr>\n",
       "      <th>1</th>\n",
       "      <td>40861669</td>\n",
       "      <td>NEW VICTORY RESTAURANT</td>\n",
       "      <td>BROOKLYN</td>\n",
       "      <td>4803</td>\n",
       "      <td>5 AVENUE</td>\n",
       "      <td>11220.0</td>\n",
       "      <td>7184312938</td>\n",
       "      <td>Chinese</td>\n",
       "      <td>02/21/2019</td>\n",
       "      <td>Violations were cited in the following area(s).</td>\n",
       "      <td>04L</td>\n",
       "      <td>Evidence of mice or live mice present in facil...</td>\n",
       "      <td>Critical</td>\n",
       "      <td>10.0</td>\n",
       "      <td>A</td>\n",
       "      <td>02/21/2019</td>\n",
       "      <td>03/20/2019</td>\n",
       "      <td>Cycle Inspection / Re-inspection</td>\n",
       "    </tr>\n",
       "    <tr>\n",
       "      <th>2</th>\n",
       "      <td>50010567</td>\n",
       "      <td>CUSP</td>\n",
       "      <td>BROOKLYN</td>\n",
       "      <td>321</td>\n",
       "      <td>7TH AVE</td>\n",
       "      <td>11215.0</td>\n",
       "      <td>7187882980</td>\n",
       "      <td>CafÃÂ©/Coffee/Tea</td>\n",
       "      <td>03/23/2018</td>\n",
       "      <td>Violations were cited in the following area(s).</td>\n",
       "      <td>06C</td>\n",
       "      <td>Food not protected from potential source of co...</td>\n",
       "      <td>Critical</td>\n",
       "      <td>8.0</td>\n",
       "      <td>A</td>\n",
       "      <td>03/23/2018</td>\n",
       "      <td>03/20/2019</td>\n",
       "      <td>Cycle Inspection / Re-inspection</td>\n",
       "    </tr>\n",
       "    <tr>\n",
       "      <th>3</th>\n",
       "      <td>40821227</td>\n",
       "      <td>SABOR A MEXICO</td>\n",
       "      <td>MANHATTAN</td>\n",
       "      <td>1744</td>\n",
       "      <td>FIRST AVENUE</td>\n",
       "      <td>10128.0</td>\n",
       "      <td>2122892641</td>\n",
       "      <td>Mexican</td>\n",
       "      <td>12/08/2015</td>\n",
       "      <td>Violations were cited in the following area(s).</td>\n",
       "      <td>09C</td>\n",
       "      <td>Food contact surface not properly maintained.</td>\n",
       "      <td>Not Critical</td>\n",
       "      <td>7.0</td>\n",
       "      <td>A</td>\n",
       "      <td>12/08/2015</td>\n",
       "      <td>03/20/2019</td>\n",
       "      <td>Cycle Inspection / Initial Inspection</td>\n",
       "    </tr>\n",
       "    <tr>\n",
       "      <th>4</th>\n",
       "      <td>50050905</td>\n",
       "      <td>BY CHLOE</td>\n",
       "      <td>MANHATTAN</td>\n",
       "      <td>60</td>\n",
       "      <td>W 22ND ST</td>\n",
       "      <td>10010.0</td>\n",
       "      <td>6463584021</td>\n",
       "      <td>Vegetarian</td>\n",
       "      <td>12/22/2017</td>\n",
       "      <td>Violations were cited in the following area(s).</td>\n",
       "      <td>04C</td>\n",
       "      <td>Food worker does not use proper utensil to eli...</td>\n",
       "      <td>Critical</td>\n",
       "      <td>24.0</td>\n",
       "      <td>NaN</td>\n",
       "      <td>NaN</td>\n",
       "      <td>03/20/2019</td>\n",
       "      <td>Cycle Inspection / Initial Inspection</td>\n",
       "    </tr>\n",
       "  </tbody>\n",
       "</table>\n",
       "</div>"
      ],
      "text/plain": [
       "      CAMIS                     DBA       BORO BUILDING        STREET  \\\n",
       "0  50035269        FRESCO TORTILLAS     QUEENS     3112      36TH AVE   \n",
       "1  40861669  NEW VICTORY RESTAURANT   BROOKLYN     4803      5 AVENUE   \n",
       "2  50010567                    CUSP   BROOKLYN      321       7TH AVE   \n",
       "3  40821227          SABOR A MEXICO  MANHATTAN     1744  FIRST AVENUE   \n",
       "4  50050905                BY CHLOE  MANHATTAN       60     W 22ND ST   \n",
       "\n",
       "   ZIPCODE       PHONE CUISINE DESCRIPTION INSPECTION DATE  \\\n",
       "0  11106.0  7182679536             Tex-Mex      02/15/2019   \n",
       "1  11220.0  7184312938             Chinese      02/21/2019   \n",
       "2  11215.0  7187882980  CafÃÂ©/Coffee/Tea      03/23/2018   \n",
       "3  10128.0  2122892641             Mexican      12/08/2015   \n",
       "4  10010.0  6463584021          Vegetarian      12/22/2017   \n",
       "\n",
       "                                            ACTION VIOLATION CODE  \\\n",
       "0  Violations were cited in the following area(s).            10F   \n",
       "1  Violations were cited in the following area(s).            04L   \n",
       "2  Violations were cited in the following area(s).            06C   \n",
       "3  Violations were cited in the following area(s).            09C   \n",
       "4  Violations were cited in the following area(s).            04C   \n",
       "\n",
       "                               VIOLATION DESCRIPTION CRITICAL FLAG  SCORE  \\\n",
       "0  Non-food contact surface improperly constructe...  Not Critical    9.0   \n",
       "1  Evidence of mice or live mice present in facil...      Critical   10.0   \n",
       "2  Food not protected from potential source of co...      Critical    8.0   \n",
       "3      Food contact surface not properly maintained.  Not Critical    7.0   \n",
       "4  Food worker does not use proper utensil to eli...      Critical   24.0   \n",
       "\n",
       "  GRADE  GRADE DATE RECORD DATE                        INSPECTION TYPE  \n",
       "0     A  02/15/2019  03/20/2019  Cycle Inspection / Initial Inspection  \n",
       "1     A  02/21/2019  03/20/2019       Cycle Inspection / Re-inspection  \n",
       "2     A  03/23/2018  03/20/2019       Cycle Inspection / Re-inspection  \n",
       "3     A  12/08/2015  03/20/2019  Cycle Inspection / Initial Inspection  \n",
       "4   NaN         NaN  03/20/2019  Cycle Inspection / Initial Inspection  "
      ]
     },
     "execution_count": 20,
     "metadata": {},
     "output_type": "execute_result"
    }
   ],
   "source": [
    "nyc_inspect.head()"
   ]
  },
  {
   "cell_type": "code",
   "execution_count": 21,
   "metadata": {},
   "outputs": [
    {
     "data": {
      "text/plain": [
       "CAMIS                    385386\n",
       "DBA                      384841\n",
       "BORO                     385386\n",
       "BUILDING                 385158\n",
       "STREET                   385383\n",
       "ZIPCODE                  379585\n",
       "PHONE                    385379\n",
       "CUISINE DESCRIPTION      385386\n",
       "INSPECTION DATE          385386\n",
       "ACTION                   383967\n",
       "VIOLATION CODE           379351\n",
       "VIOLATION DESCRIPTION    377075\n",
       "CRITICAL FLAG            385386\n",
       "SCORE                    366488\n",
       "GRADE                    194272\n",
       "GRADE DATE               192672\n",
       "RECORD DATE              385386\n",
       "INSPECTION TYPE          383967\n",
       "dtype: int64"
      ]
     },
     "execution_count": 21,
     "metadata": {},
     "output_type": "execute_result"
    }
   ],
   "source": [
    "nyc_inspect.count()"
   ]
  },
  {
   "cell_type": "code",
   "execution_count": 43,
   "metadata": {},
   "outputs": [
    {
     "name": "stdout",
     "output_type": "stream",
     "text": [
      "DUNKIN' DONUTS                           3856\n",
      "SUBWAY                                   3065\n",
      "MCDONALD'S                               2181\n",
      "STARBUCKS                                2140\n",
      "KENNEDY FRIED CHICKEN                    1343\n",
      "DUNKIN' DONUTS, BASKIN ROBBINS           1244\n",
      "DOMINO'S                                 1054\n",
      "CROWN FRIED CHICKEN                      1053\n",
      "BURGER KING                               936\n",
      "GOLDEN KRUST CARIBBEAN BAKERY & GRILL     860\n",
      "POPEYES LOUISIANA KITCHEN                 784\n",
      "CHIPOTLE MEXICAN GRILL                    758\n",
      "KFC                                       611\n",
      "LE PAIN QUOTIDIEN                         486\n",
      "CHECKERS                                  473\n",
      "DUNKIN DONUTS                             468\n",
      "WENDY'S                                   460\n",
      "PRET A MANGER                             381\n",
      "VIVI BUBBLE TEA                           362\n",
      "CARVEL ICE CREAM                          345\n",
      "AU BON PAIN                               340\n",
      "BAREBURGER                                333\n",
      "PAPA JOHN'S                               331\n",
      "PARIS BAGUETTE                            329\n",
      "LITTLE CAESARS                            301\n",
      "BOSTON MARKET                             290\n",
      "JUST SALAD                                287\n",
      "IHOP                                      279\n",
      "BREAD & BUTTER                            269\n",
      "HALE & HEARTY SOUP                        259\n",
      "                                         ... \n",
      "MAVSOHO                                     1\n",
      "ST TROPEZ                                   1\n",
      "THE DANCER                                  1\n",
      "SALT BRICK TAVERN                           1\n",
      "BD NYC PIZZA                                1\n",
      "Dolma                                       1\n",
      "BLVD BISTRO                                 1\n",
      "HOMETEOWN BAR-B-QUE                         1\n",
      "Tropic Juice                                1\n",
      "JJ'S                                        1\n",
      "MOMO CHICKEN                                1\n",
      "JUICOLOGY                                   1\n",
      "Top Tortilla                                1\n",
      "AMERICAN BRASS                              1\n",
      "SAINT GIOVANNI                              1\n",
      "HER NAME WAS CARMEN                         1\n",
      "TAKESHI SUSHI                               1\n",
      "SAN MARCO PIZZABAR                          1\n",
      "THAT SUSHI SPOT LLC                         1\n",
      "THE FAT CARDINAL BAKERY                     1\n",
      "Ninja Japanese Restaurant                   1\n",
      "CHIC-FIL-A AT FULTON STREET IN-LINE         1\n",
      "WAKU WAKU                                   1\n",
      "PANDA 88 INC                                1\n",
      "PLOWSHARES COFFEE ROASTERS                  1\n",
      "SO TASTY NIGERIA AFRICAN RESTAURANT         1\n",
      "C BAO                                       1\n",
      "ANDREA ZOGA                                 1\n",
      "ATWOOD                                      1\n",
      "THE SHANNON POT 2                           1\n",
      "Name: DBA, Length: 21323, dtype: int64\n"
     ]
    }
   ],
   "source": [
    "rest_num = nyc_inspect['DBA'].value_counts()\n",
    "type(rest_num)\n",
    "print(rest_num)"
   ]
  },
  {
   "cell_type": "code",
   "execution_count": 40,
   "metadata": {},
   "outputs": [
    {
     "ename": "TypeError",
     "evalue": "drop() got an unexpected keyword argument 'implace'",
     "output_type": "error",
     "traceback": [
      "\u001b[1;31m---------------------------------------------------------------------------\u001b[0m",
      "\u001b[1;31mTypeError\u001b[0m                                 Traceback (most recent call last)",
      "\u001b[1;32m<ipython-input-40-aa400d6f5d10>\u001b[0m in \u001b[0;36m<module>\u001b[1;34m\u001b[0m\n\u001b[0;32m      1\u001b[0m \u001b[1;31m#reset_list = nyc_inspect.drop(nyc_inspect['DBA'] == \"SUBWAY\")\u001b[0m\u001b[1;33m\u001b[0m\u001b[1;33m\u001b[0m\u001b[1;33m\u001b[0m\u001b[0m\n\u001b[1;32m----> 2\u001b[1;33m \u001b[0mreset_list\u001b[0m \u001b[1;33m=\u001b[0m \u001b[0mnyc_inspect\u001b[0m\u001b[1;33m.\u001b[0m\u001b[0mdrop\u001b[0m\u001b[1;33m(\u001b[0m\u001b[0mnyc_inspect\u001b[0m\u001b[1;33m.\u001b[0m\u001b[0mindex\u001b[0m\u001b[1;33m[\u001b[0m\u001b[0mdf\u001b[0m\u001b[1;33m[\u001b[0m\u001b[1;34m'DBA'\u001b[0m\u001b[1;33m]\u001b[0m \u001b[1;33m==\u001b[0m \u001b[1;34m\"SUBWAY\"\u001b[0m\u001b[1;33m]\u001b[0m\u001b[1;33m,\u001b[0m \u001b[0mimplace\u001b[0m\u001b[1;33m=\u001b[0m\u001b[1;32mTrue\u001b[0m\u001b[1;33m)\u001b[0m\u001b[1;33m\u001b[0m\u001b[1;33m\u001b[0m\u001b[0m\n\u001b[0m\u001b[0;32m      3\u001b[0m \u001b[0mrest_num\u001b[0m \u001b[1;33m=\u001b[0m \u001b[0mreset_list\u001b[0m\u001b[1;33m[\u001b[0m\u001b[1;34m'DBA'\u001b[0m\u001b[1;33m]\u001b[0m\u001b[1;33m.\u001b[0m\u001b[0mvalue_counts\u001b[0m\u001b[1;33m(\u001b[0m\u001b[1;33m)\u001b[0m\u001b[1;33m\u001b[0m\u001b[1;33m\u001b[0m\u001b[0m\n",
      "\u001b[1;31mTypeError\u001b[0m: drop() got an unexpected keyword argument 'implace'"
     ]
    }
   ],
   "source": [
    "#reset_list = nyc_inspect.drop(nyc_inspect['DBA'] == \"SUBWAY\")\n",
    "reset_list = nyc_inspect.drop(nyc_inspect.index[df['DBA'] == \"SUBWAY\"], implace=True)\n",
    "reset_list['DBA'].value_counts()\n"
   ]
  },
  {
   "cell_type": "code",
   "execution_count": 39,
   "metadata": {},
   "outputs": [
    {
     "ename": "ValueError",
     "evalue": "cannot index with vector containing NA / NaN values",
     "output_type": "error",
     "traceback": [
      "\u001b[1;31m---------------------------------------------------------------------------\u001b[0m",
      "\u001b[1;31mValueError\u001b[0m                                Traceback (most recent call last)",
      "\u001b[1;32m<ipython-input-39-9fb6bd7562ad>\u001b[0m in \u001b[0;36m<module>\u001b[1;34m\u001b[0m\n\u001b[0;32m      1\u001b[0m \u001b[1;32mfor\u001b[0m \u001b[0mx\u001b[0m \u001b[1;32min\u001b[0m \u001b[0mreset_list\u001b[0m\u001b[1;33m[\u001b[0m\u001b[1;34m'DBA'\u001b[0m\u001b[1;33m]\u001b[0m\u001b[1;33m:\u001b[0m\u001b[1;33m\u001b[0m\u001b[1;33m\u001b[0m\u001b[0m\n\u001b[0;32m      2\u001b[0m     \u001b[1;32mif\u001b[0m \u001b[0mreset_list\u001b[0m\u001b[1;33m[\u001b[0m\u001b[1;34m'DBA'\u001b[0m\u001b[1;33m]\u001b[0m\u001b[1;33m.\u001b[0m\u001b[0mcount\u001b[0m\u001b[1;33m(\u001b[0m\u001b[1;33m)\u001b[0m \u001b[1;33m>\u001b[0m \u001b[1;36m300\u001b[0m\u001b[1;33m:\u001b[0m\u001b[1;33m\u001b[0m\u001b[1;33m\u001b[0m\u001b[0m\n\u001b[1;32m----> 3\u001b[1;33m         \u001b[0mreset_list\u001b[0m\u001b[1;33m.\u001b[0m\u001b[0mdrop\u001b[0m\u001b[1;33m(\u001b[0m\u001b[0mreset_list\u001b[0m\u001b[1;33m.\u001b[0m\u001b[0mindex\u001b[0m\u001b[1;33m[\u001b[0m\u001b[0mdf\u001b[0m\u001b[1;33m[\u001b[0m\u001b[1;34m'DBA'\u001b[0m\u001b[1;33m]\u001b[0m\u001b[1;33m]\u001b[0m\u001b[1;33m,\u001b[0m \u001b[0mimplace\u001b[0m\u001b[1;33m=\u001b[0m\u001b[1;32mTrue\u001b[0m\u001b[1;33m)\u001b[0m\u001b[1;33m\u001b[0m\u001b[1;33m\u001b[0m\u001b[0m\n\u001b[0m",
      "\u001b[1;32m~\\Anaconda3\\lib\\site-packages\\pandas\\core\\indexes\\base.py\u001b[0m in \u001b[0;36m__getitem__\u001b[1;34m(self, key)\u001b[0m\n\u001b[0;32m   2089\u001b[0m             \u001b[1;32mreturn\u001b[0m \u001b[0mpromote\u001b[0m\u001b[1;33m(\u001b[0m\u001b[0mgetitem\u001b[0m\u001b[1;33m(\u001b[0m\u001b[0mkey\u001b[0m\u001b[1;33m)\u001b[0m\u001b[1;33m)\u001b[0m\u001b[1;33m\u001b[0m\u001b[1;33m\u001b[0m\u001b[0m\n\u001b[0;32m   2090\u001b[0m \u001b[1;33m\u001b[0m\u001b[0m\n\u001b[1;32m-> 2091\u001b[1;33m         \u001b[1;32mif\u001b[0m \u001b[0mcom\u001b[0m\u001b[1;33m.\u001b[0m\u001b[0mis_bool_indexer\u001b[0m\u001b[1;33m(\u001b[0m\u001b[0mkey\u001b[0m\u001b[1;33m)\u001b[0m\u001b[1;33m:\u001b[0m\u001b[1;33m\u001b[0m\u001b[1;33m\u001b[0m\u001b[0m\n\u001b[0m\u001b[0;32m   2092\u001b[0m             \u001b[0mkey\u001b[0m \u001b[1;33m=\u001b[0m \u001b[0mnp\u001b[0m\u001b[1;33m.\u001b[0m\u001b[0masarray\u001b[0m\u001b[1;33m(\u001b[0m\u001b[0mkey\u001b[0m\u001b[1;33m)\u001b[0m\u001b[1;33m\u001b[0m\u001b[1;33m\u001b[0m\u001b[0m\n\u001b[0;32m   2093\u001b[0m \u001b[1;33m\u001b[0m\u001b[0m\n",
      "\u001b[1;32m~\\Anaconda3\\lib\\site-packages\\pandas\\core\\common.py\u001b[0m in \u001b[0;36mis_bool_indexer\u001b[1;34m(key)\u001b[0m\n\u001b[0;32m    105\u001b[0m             \u001b[1;32mif\u001b[0m \u001b[1;32mnot\u001b[0m \u001b[0mlib\u001b[0m\u001b[1;33m.\u001b[0m\u001b[0mis_bool_array\u001b[0m\u001b[1;33m(\u001b[0m\u001b[0mkey\u001b[0m\u001b[1;33m)\u001b[0m\u001b[1;33m:\u001b[0m\u001b[1;33m\u001b[0m\u001b[1;33m\u001b[0m\u001b[0m\n\u001b[0;32m    106\u001b[0m                 \u001b[1;32mif\u001b[0m \u001b[0misna\u001b[0m\u001b[1;33m(\u001b[0m\u001b[0mkey\u001b[0m\u001b[1;33m)\u001b[0m\u001b[1;33m.\u001b[0m\u001b[0many\u001b[0m\u001b[1;33m(\u001b[0m\u001b[1;33m)\u001b[0m\u001b[1;33m:\u001b[0m\u001b[1;33m\u001b[0m\u001b[1;33m\u001b[0m\u001b[0m\n\u001b[1;32m--> 107\u001b[1;33m                     raise ValueError('cannot index with vector containing '\n\u001b[0m\u001b[0;32m    108\u001b[0m                                      'NA / NaN values')\n\u001b[0;32m    109\u001b[0m                 \u001b[1;32mreturn\u001b[0m \u001b[1;32mFalse\u001b[0m\u001b[1;33m\u001b[0m\u001b[1;33m\u001b[0m\u001b[0m\n",
      "\u001b[1;31mValueError\u001b[0m: cannot index with vector containing NA / NaN values"
     ]
    }
   ],
   "source": [
    "for x in reset_list['DBA']:\n",
    "    if reset_list['DBA'].count() > 300:\n",
    "        reset_list.drop(reset_list.index[df['DBA']], implace=True)"
   ]
  },
  {
   "cell_type": "code",
   "execution_count": null,
   "metadata": {},
   "outputs": [],
   "source": []
  }
 ],
 "metadata": {
  "kernelspec": {
   "display_name": "Python 3",
   "language": "python",
   "name": "python3"
  },
  "language_info": {
   "codemirror_mode": {
    "name": "ipython",
    "version": 3
   },
   "file_extension": ".py",
   "mimetype": "text/x-python",
   "name": "python",
   "nbconvert_exporter": "python",
   "pygments_lexer": "ipython3",
   "version": "3.7.1"
  }
 },
 "nbformat": 4,
 "nbformat_minor": 2
}
