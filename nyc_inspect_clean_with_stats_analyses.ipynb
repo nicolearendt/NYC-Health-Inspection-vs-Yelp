{
 "cells": [
  {
   "cell_type": "code",
   "execution_count": 2,
   "metadata": {},
   "outputs": [],
   "source": [
    "import pandas as pd\n",
    "import numpy as np\n",
    "import csv\n",
    "from matplotlib import pyplot as plt\n",
    "from scipy.stats import linregress\n",
    "from scipy import stats"
   ]
  },
  {
   "cell_type": "code",
   "execution_count": 2,
   "metadata": {},
   "outputs": [],
   "source": [
    "#This is our source file with inspection data as of March 20, 2019\n",
    "file = 'DOHMH_New_York_City_Restaurant_Inspection_Results.csv'"
   ]
  },
  {
   "cell_type": "code",
   "execution_count": 3,
   "metadata": {
    "scrolled": true
   },
   "outputs": [
    {
     "data": {
      "text/plain": [
       "Index(['CAMIS', 'DBA', 'BORO', 'BUILDING', 'STREET', 'ZIPCODE', 'PHONE',\n",
       "       'CUISINE DESCRIPTION', 'INSPECTION DATE', 'ACTION', 'VIOLATION CODE',\n",
       "       'VIOLATION DESCRIPTION', 'CRITICAL FLAG', 'SCORE', 'GRADE',\n",
       "       'GRADE DATE', 'RECORD DATE', 'INSPECTION TYPE'],\n",
       "      dtype='object')"
      ]
     },
     "execution_count": 3,
     "metadata": {},
     "output_type": "execute_result"
    }
   ],
   "source": [
    "#Read csv file into nyc_inspect and list columns\n",
    "nyc_inspect = pd.read_csv(file, encoding=\"ISO-8859-1\")\n",
    "nyc_inspect.columns"
   ]
  },
  {
   "cell_type": "code",
   "execution_count": 4,
   "metadata": {},
   "outputs": [
    {
     "data": {
      "text/html": [
       "<div>\n",
       "<style scoped>\n",
       "    .dataframe tbody tr th:only-of-type {\n",
       "        vertical-align: middle;\n",
       "    }\n",
       "\n",
       "    .dataframe tbody tr th {\n",
       "        vertical-align: top;\n",
       "    }\n",
       "\n",
       "    .dataframe thead th {\n",
       "        text-align: right;\n",
       "    }\n",
       "</style>\n",
       "<table border=\"1\" class=\"dataframe\">\n",
       "  <thead>\n",
       "    <tr style=\"text-align: right;\">\n",
       "      <th></th>\n",
       "      <th>CAMIS</th>\n",
       "      <th>DBA</th>\n",
       "      <th>BORO</th>\n",
       "      <th>BUILDING</th>\n",
       "      <th>STREET</th>\n",
       "      <th>ZIPCODE</th>\n",
       "      <th>PHONE</th>\n",
       "      <th>CUISINE DESCRIPTION</th>\n",
       "      <th>INSPECTION DATE</th>\n",
       "      <th>ACTION</th>\n",
       "      <th>VIOLATION CODE</th>\n",
       "      <th>VIOLATION DESCRIPTION</th>\n",
       "      <th>CRITICAL FLAG</th>\n",
       "      <th>SCORE</th>\n",
       "      <th>GRADE</th>\n",
       "      <th>GRADE DATE</th>\n",
       "      <th>RECORD DATE</th>\n",
       "      <th>INSPECTION TYPE</th>\n",
       "    </tr>\n",
       "  </thead>\n",
       "  <tbody>\n",
       "    <tr>\n",
       "      <th>0</th>\n",
       "      <td>50035269</td>\n",
       "      <td>FRESCO TORTILLAS</td>\n",
       "      <td>QUEENS</td>\n",
       "      <td>3112</td>\n",
       "      <td>36TH AVE</td>\n",
       "      <td>11106.0</td>\n",
       "      <td>7182679536</td>\n",
       "      <td>Tex-Mex</td>\n",
       "      <td>02/15/2019</td>\n",
       "      <td>Violations were cited in the following area(s).</td>\n",
       "      <td>10F</td>\n",
       "      <td>Non-food contact surface improperly constructe...</td>\n",
       "      <td>Not Critical</td>\n",
       "      <td>9.0</td>\n",
       "      <td>A</td>\n",
       "      <td>02/15/2019</td>\n",
       "      <td>03/20/2019</td>\n",
       "      <td>Cycle Inspection / Initial Inspection</td>\n",
       "    </tr>\n",
       "    <tr>\n",
       "      <th>1</th>\n",
       "      <td>40861669</td>\n",
       "      <td>NEW VICTORY RESTAURANT</td>\n",
       "      <td>BROOKLYN</td>\n",
       "      <td>4803</td>\n",
       "      <td>5 AVENUE</td>\n",
       "      <td>11220.0</td>\n",
       "      <td>7184312938</td>\n",
       "      <td>Chinese</td>\n",
       "      <td>02/21/2019</td>\n",
       "      <td>Violations were cited in the following area(s).</td>\n",
       "      <td>04L</td>\n",
       "      <td>Evidence of mice or live mice present in facil...</td>\n",
       "      <td>Critical</td>\n",
       "      <td>10.0</td>\n",
       "      <td>A</td>\n",
       "      <td>02/21/2019</td>\n",
       "      <td>03/20/2019</td>\n",
       "      <td>Cycle Inspection / Re-inspection</td>\n",
       "    </tr>\n",
       "    <tr>\n",
       "      <th>2</th>\n",
       "      <td>50010567</td>\n",
       "      <td>CUSP</td>\n",
       "      <td>BROOKLYN</td>\n",
       "      <td>321</td>\n",
       "      <td>7TH AVE</td>\n",
       "      <td>11215.0</td>\n",
       "      <td>7187882980</td>\n",
       "      <td>CafÃÂ©/Coffee/Tea</td>\n",
       "      <td>03/23/2018</td>\n",
       "      <td>Violations were cited in the following area(s).</td>\n",
       "      <td>06C</td>\n",
       "      <td>Food not protected from potential source of co...</td>\n",
       "      <td>Critical</td>\n",
       "      <td>8.0</td>\n",
       "      <td>A</td>\n",
       "      <td>03/23/2018</td>\n",
       "      <td>03/20/2019</td>\n",
       "      <td>Cycle Inspection / Re-inspection</td>\n",
       "    </tr>\n",
       "    <tr>\n",
       "      <th>3</th>\n",
       "      <td>40821227</td>\n",
       "      <td>SABOR A MEXICO</td>\n",
       "      <td>MANHATTAN</td>\n",
       "      <td>1744</td>\n",
       "      <td>FIRST AVENUE</td>\n",
       "      <td>10128.0</td>\n",
       "      <td>2122892641</td>\n",
       "      <td>Mexican</td>\n",
       "      <td>12/08/2015</td>\n",
       "      <td>Violations were cited in the following area(s).</td>\n",
       "      <td>09C</td>\n",
       "      <td>Food contact surface not properly maintained.</td>\n",
       "      <td>Not Critical</td>\n",
       "      <td>7.0</td>\n",
       "      <td>A</td>\n",
       "      <td>12/08/2015</td>\n",
       "      <td>03/20/2019</td>\n",
       "      <td>Cycle Inspection / Initial Inspection</td>\n",
       "    </tr>\n",
       "    <tr>\n",
       "      <th>4</th>\n",
       "      <td>50050905</td>\n",
       "      <td>BY CHLOE</td>\n",
       "      <td>MANHATTAN</td>\n",
       "      <td>60</td>\n",
       "      <td>W 22ND ST</td>\n",
       "      <td>10010.0</td>\n",
       "      <td>6463584021</td>\n",
       "      <td>Vegetarian</td>\n",
       "      <td>12/22/2017</td>\n",
       "      <td>Violations were cited in the following area(s).</td>\n",
       "      <td>04C</td>\n",
       "      <td>Food worker does not use proper utensil to eli...</td>\n",
       "      <td>Critical</td>\n",
       "      <td>24.0</td>\n",
       "      <td>NaN</td>\n",
       "      <td>NaN</td>\n",
       "      <td>03/20/2019</td>\n",
       "      <td>Cycle Inspection / Initial Inspection</td>\n",
       "    </tr>\n",
       "  </tbody>\n",
       "</table>\n",
       "</div>"
      ],
      "text/plain": [
       "      CAMIS                     DBA       BORO BUILDING        STREET  \\\n",
       "0  50035269        FRESCO TORTILLAS     QUEENS     3112      36TH AVE   \n",
       "1  40861669  NEW VICTORY RESTAURANT   BROOKLYN     4803      5 AVENUE   \n",
       "2  50010567                    CUSP   BROOKLYN      321       7TH AVE   \n",
       "3  40821227          SABOR A MEXICO  MANHATTAN     1744  FIRST AVENUE   \n",
       "4  50050905                BY CHLOE  MANHATTAN       60     W 22ND ST   \n",
       "\n",
       "   ZIPCODE       PHONE CUISINE DESCRIPTION INSPECTION DATE  \\\n",
       "0  11106.0  7182679536             Tex-Mex      02/15/2019   \n",
       "1  11220.0  7184312938             Chinese      02/21/2019   \n",
       "2  11215.0  7187882980  CafÃÂ©/Coffee/Tea      03/23/2018   \n",
       "3  10128.0  2122892641             Mexican      12/08/2015   \n",
       "4  10010.0  6463584021          Vegetarian      12/22/2017   \n",
       "\n",
       "                                            ACTION VIOLATION CODE  \\\n",
       "0  Violations were cited in the following area(s).            10F   \n",
       "1  Violations were cited in the following area(s).            04L   \n",
       "2  Violations were cited in the following area(s).            06C   \n",
       "3  Violations were cited in the following area(s).            09C   \n",
       "4  Violations were cited in the following area(s).            04C   \n",
       "\n",
       "                               VIOLATION DESCRIPTION CRITICAL FLAG  SCORE  \\\n",
       "0  Non-food contact surface improperly constructe...  Not Critical    9.0   \n",
       "1  Evidence of mice or live mice present in facil...      Critical   10.0   \n",
       "2  Food not protected from potential source of co...      Critical    8.0   \n",
       "3      Food contact surface not properly maintained.  Not Critical    7.0   \n",
       "4  Food worker does not use proper utensil to eli...      Critical   24.0   \n",
       "\n",
       "  GRADE  GRADE DATE RECORD DATE                        INSPECTION TYPE  \n",
       "0     A  02/15/2019  03/20/2019  Cycle Inspection / Initial Inspection  \n",
       "1     A  02/21/2019  03/20/2019       Cycle Inspection / Re-inspection  \n",
       "2     A  03/23/2018  03/20/2019       Cycle Inspection / Re-inspection  \n",
       "3     A  12/08/2015  03/20/2019  Cycle Inspection / Initial Inspection  \n",
       "4   NaN         NaN  03/20/2019  Cycle Inspection / Initial Inspection  "
      ]
     },
     "execution_count": 4,
     "metadata": {},
     "output_type": "execute_result"
    }
   ],
   "source": [
    "#check the first 5 rows\n",
    "nyc_inspect.head()"
   ]
  },
  {
   "cell_type": "code",
   "execution_count": 6,
   "metadata": {},
   "outputs": [
    {
     "data": {
      "text/plain": [
       "CAMIS                    385386\n",
       "DBA                      384841\n",
       "BORO                     385386\n",
       "BUILDING                 385158\n",
       "STREET                   385383\n",
       "ZIPCODE                  379585\n",
       "PHONE                    385379\n",
       "CUISINE DESCRIPTION      385386\n",
       "INSPECTION DATE          385386\n",
       "ACTION                   383967\n",
       "VIOLATION CODE           379351\n",
       "VIOLATION DESCRIPTION    377075\n",
       "CRITICAL FLAG            385386\n",
       "SCORE                    366488\n",
       "GRADE                    194272\n",
       "GRADE DATE               192672\n",
       "RECORD DATE              385386\n",
       "INSPECTION TYPE          383967\n",
       "dtype: int64"
      ]
     },
     "execution_count": 6,
     "metadata": {},
     "output_type": "execute_result"
    }
   ],
   "source": [
    "#count values in each column\n",
    "nyc_inspect.count()\n",
    "#starting with 385386"
   ]
  },
  {
   "cell_type": "code",
   "execution_count": 9,
   "metadata": {},
   "outputs": [
    {
     "data": {
      "text/plain": [
       "Cycle Inspection / Initial Inspection                          222649\n",
       "Cycle Inspection / Re-inspection                                93005\n",
       "Pre-permit (Operational) / Initial Inspection                   26327\n",
       "Pre-permit (Operational) / Re-inspection                        11960\n",
       "Administrative Miscellaneous / Initial Inspection                7064\n",
       "Cycle Inspection / Reopening Inspection                          4343\n",
       "Pre-permit (Non-operational) / Initial Inspection                3576\n",
       "Smoke-Free Air Act / Initial Inspection                          3025\n",
       "Administrative Miscellaneous / Re-inspection                     2227\n",
       "Trans Fat / Initial Inspection                                   2017\n",
       "Pre-permit (Operational) / Compliance Inspection                 1236\n",
       "Calorie Posting / Initial Inspection                             1128\n",
       "Inter-Agency Task Force / Initial Inspection                     1006\n",
       "Pre-permit (Operational) / Reopening Inspection                   977\n",
       "Cycle Inspection / Compliance Inspection                          932\n",
       "Smoke-Free Air Act / Re-inspection                                815\n",
       "Trans Fat / Re-inspection                                         542\n",
       "Pre-permit (Non-operational) / Re-inspection                      321\n",
       "Calorie Posting / Re-inspection                                   243\n",
       "Administrative Miscellaneous / Compliance Inspection              150\n",
       "Administrative Miscellaneous / Reopening Inspection               106\n",
       "Pre-permit (Operational) / Second Compliance Inspection            92\n",
       "Trans Fat / Compliance Inspection                                  89\n",
       "Pre-permit (Non-operational) / Compliance Inspection               29\n",
       "Cycle Inspection / Second Compliance Inspection                    28\n",
       "Administrative Miscellaneous / Second Compliance Inspection        26\n",
       "Smoke-Free Air Act / Compliance Inspection                         22\n",
       "Calorie Posting / Compliance Inspection                            18\n",
       "Trans Fat / Second Compliance Inspection                           10\n",
       "Smoke-Free Air Act / Limited Inspection                             2\n",
       "Trans Fat / Limited Inspection                                      1\n",
       "Pre-permit (Non-operational) / Second Compliance Inspection         1\n",
       "Name: INSPECTION TYPE, dtype: int64"
      ]
     },
     "execution_count": 9,
     "metadata": {},
     "output_type": "execute_result"
    }
   ],
   "source": [
    "#Find out how many inspection types\n",
    "nyc_inspect[\"INSPECTION TYPE\"].value_counts()"
   ]
  },
  {
   "cell_type": "code",
   "execution_count": 11,
   "metadata": {
    "scrolled": true
   },
   "outputs": [
    {
     "data": {
      "text/plain": [
       "CAMIS                    383967\n",
       "DBA                      383967\n",
       "BORO                     383967\n",
       "BUILDING                 383745\n",
       "STREET                   383967\n",
       "ZIPCODE                  378186\n",
       "PHONE                    383963\n",
       "CUISINE DESCRIPTION      383967\n",
       "INSPECTION_DATE          383967\n",
       "ACTION                   383967\n",
       "VIOLATION CODE           379351\n",
       "VIOLATION DESCRIPTION    377075\n",
       "CRITICAL FLAG            383967\n",
       "SCORE                    366488\n",
       "GRADE                    194272\n",
       "GRADE DATE               192672\n",
       "RECORD DATE              383967\n",
       "INSPECTION TYPE          383967\n",
       "dtype: int64"
      ]
     },
     "execution_count": 11,
     "metadata": {},
     "output_type": "execute_result"
    }
   ],
   "source": [
    "#Filter out restaurant not yet in business\n",
    "nyc_inspect = nyc_inspect.rename(columns={\"INSPECTION DATE\":\"INSPECTION_DATE\"})\n",
    "current_nyc_inspect = nyc_inspect[nyc_inspect.INSPECTION_DATE != \"01/01/1900\"]\n",
    "current_nyc_inspect.count()"
   ]
  },
  {
   "cell_type": "code",
   "execution_count": 14,
   "metadata": {},
   "outputs": [
    {
     "data": {
      "text/plain": [
       "Cycle Inspection / Initial Inspection              222649\n",
       "Cycle Inspection / Re-inspection                    93005\n",
       "Cycle Inspection / Reopening Inspection              4343\n",
       "Cycle Inspection / Compliance Inspection              932\n",
       "Cycle Inspection / Second Compliance Inspection        28\n",
       "Name: INSPECTION_TYPE, dtype: int64"
      ]
     },
     "execution_count": 14,
     "metadata": {},
     "output_type": "execute_result"
    }
   ],
   "source": [
    "#filter out all inspection types other than cycle inspections to foucs on cleanliness inspections only\n",
    "current_nyc_inspect = current_nyc_inspect.rename(columns={\"INSPECTION TYPE\":\"INSPECTION_TYPE\"})\n",
    "current_nyc_cycle = current_nyc_inspect[current_nyc_inspect.INSPECTION_TYPE.str.contains('Cycle Inspection') == True]\n",
    "current_nyc_cycle[\"INSPECTION_TYPE\"].value_counts()"
   ]
  },
  {
   "cell_type": "code",
   "execution_count": 15,
   "metadata": {
    "scrolled": false
   },
   "outputs": [
    {
     "name": "stderr",
     "output_type": "stream",
     "text": [
      "C:\\Users\\Owner\\Anaconda3\\lib\\site-packages\\ipykernel_launcher.py:2: SettingWithCopyWarning: \n",
      "A value is trying to be set on a copy of a slice from a DataFrame.\n",
      "Try using .loc[row_indexer,col_indexer] = value instead\n",
      "\n",
      "See the caveats in the documentation: http://pandas.pydata.org/pandas-docs/stable/indexing.html#indexing-view-versus-copy\n",
      "  \n"
     ]
    },
    {
     "data": {
      "text/html": [
       "<div>\n",
       "<style scoped>\n",
       "    .dataframe tbody tr th:only-of-type {\n",
       "        vertical-align: middle;\n",
       "    }\n",
       "\n",
       "    .dataframe tbody tr th {\n",
       "        vertical-align: top;\n",
       "    }\n",
       "\n",
       "    .dataframe thead th {\n",
       "        text-align: right;\n",
       "    }\n",
       "</style>\n",
       "<table border=\"1\" class=\"dataframe\">\n",
       "  <thead>\n",
       "    <tr style=\"text-align: right;\">\n",
       "      <th></th>\n",
       "      <th>CAMIS</th>\n",
       "      <th>DBA</th>\n",
       "      <th>BORO</th>\n",
       "      <th>BUILDING</th>\n",
       "      <th>STREET</th>\n",
       "      <th>ZIPCODE</th>\n",
       "      <th>PHONE</th>\n",
       "      <th>CUISINE DESCRIPTION</th>\n",
       "      <th>INSPECTION_DATE</th>\n",
       "      <th>ACTION</th>\n",
       "      <th>VIOLATION CODE</th>\n",
       "      <th>VIOLATION DESCRIPTION</th>\n",
       "      <th>CRITICAL FLAG</th>\n",
       "      <th>SCORE</th>\n",
       "      <th>GRADE</th>\n",
       "      <th>GRADE DATE</th>\n",
       "      <th>RECORD DATE</th>\n",
       "      <th>INSPECTION_TYPE</th>\n",
       "    </tr>\n",
       "  </thead>\n",
       "  <tbody>\n",
       "    <tr>\n",
       "      <th>71960</th>\n",
       "      <td>30075445</td>\n",
       "      <td>MORRIS PARK BAKE SHOP</td>\n",
       "      <td>BRONX</td>\n",
       "      <td>1007</td>\n",
       "      <td>MORRIS PARK AVE</td>\n",
       "      <td>10462.0</td>\n",
       "      <td>7188924968</td>\n",
       "      <td>Bakery</td>\n",
       "      <td>2018-05-11</td>\n",
       "      <td>Violations were cited in the following area(s).</td>\n",
       "      <td>10F</td>\n",
       "      <td>Non-food contact surface improperly constructe...</td>\n",
       "      <td>Not Critical</td>\n",
       "      <td>5.0</td>\n",
       "      <td>A</td>\n",
       "      <td>05/11/2018</td>\n",
       "      <td>03/20/2019</td>\n",
       "      <td>Cycle Inspection / Initial Inspection</td>\n",
       "    </tr>\n",
       "    <tr>\n",
       "      <th>119570</th>\n",
       "      <td>30112340</td>\n",
       "      <td>WENDY'S</td>\n",
       "      <td>BROOKLYN</td>\n",
       "      <td>469</td>\n",
       "      <td>FLATBUSH AVENUE</td>\n",
       "      <td>11225.0</td>\n",
       "      <td>7182875005</td>\n",
       "      <td>Hamburgers</td>\n",
       "      <td>2019-03-04</td>\n",
       "      <td>Violations were cited in the following area(s).</td>\n",
       "      <td>10B</td>\n",
       "      <td>Plumbing not properly installed or maintained;...</td>\n",
       "      <td>Not Critical</td>\n",
       "      <td>13.0</td>\n",
       "      <td>A</td>\n",
       "      <td>03/04/2019</td>\n",
       "      <td>03/20/2019</td>\n",
       "      <td>Cycle Inspection / Initial Inspection</td>\n",
       "    </tr>\n",
       "    <tr>\n",
       "      <th>113844</th>\n",
       "      <td>30191841</td>\n",
       "      <td>DJ REYNOLDS PUB AND RESTAURANT</td>\n",
       "      <td>MANHATTAN</td>\n",
       "      <td>351</td>\n",
       "      <td>WEST   57 STREET</td>\n",
       "      <td>10019.0</td>\n",
       "      <td>2122452912</td>\n",
       "      <td>Irish</td>\n",
       "      <td>2018-05-16</td>\n",
       "      <td>Violations were cited in the following area(s).</td>\n",
       "      <td>08A</td>\n",
       "      <td>Facility not vermin proof. Harborage or condit...</td>\n",
       "      <td>Not Critical</td>\n",
       "      <td>12.0</td>\n",
       "      <td>A</td>\n",
       "      <td>05/16/2018</td>\n",
       "      <td>03/20/2019</td>\n",
       "      <td>Cycle Inspection / Initial Inspection</td>\n",
       "    </tr>\n",
       "    <tr>\n",
       "      <th>212732</th>\n",
       "      <td>40356018</td>\n",
       "      <td>RIVIERA CATERERS</td>\n",
       "      <td>BROOKLYN</td>\n",
       "      <td>2780</td>\n",
       "      <td>STILLWELL AVENUE</td>\n",
       "      <td>11224.0</td>\n",
       "      <td>7183723031</td>\n",
       "      <td>American</td>\n",
       "      <td>2018-10-30</td>\n",
       "      <td>Violations were cited in the following area(s).</td>\n",
       "      <td>10F</td>\n",
       "      <td>Non-food contact surface improperly constructe...</td>\n",
       "      <td>Not Critical</td>\n",
       "      <td>10.0</td>\n",
       "      <td>A</td>\n",
       "      <td>10/30/2018</td>\n",
       "      <td>03/20/2019</td>\n",
       "      <td>Cycle Inspection / Initial Inspection</td>\n",
       "    </tr>\n",
       "    <tr>\n",
       "      <th>5948</th>\n",
       "      <td>40356151</td>\n",
       "      <td>BRUNOS ON THE BOULEVARD</td>\n",
       "      <td>QUEENS</td>\n",
       "      <td>8825</td>\n",
       "      <td>ASTORIA BOULEVARD</td>\n",
       "      <td>11369.0</td>\n",
       "      <td>7183350505</td>\n",
       "      <td>American</td>\n",
       "      <td>2018-10-06</td>\n",
       "      <td>Violations were cited in the following area(s).</td>\n",
       "      <td>04H</td>\n",
       "      <td>Raw, cooked or prepared food is adulterated, c...</td>\n",
       "      <td>Critical</td>\n",
       "      <td>45.0</td>\n",
       "      <td>NaN</td>\n",
       "      <td>NaN</td>\n",
       "      <td>03/20/2019</td>\n",
       "      <td>Cycle Inspection / Initial Inspection</td>\n",
       "    </tr>\n",
       "  </tbody>\n",
       "</table>\n",
       "</div>"
      ],
      "text/plain": [
       "           CAMIS                             DBA       BORO BUILDING  \\\n",
       "71960   30075445           MORRIS PARK BAKE SHOP      BRONX     1007   \n",
       "119570  30112340                         WENDY'S   BROOKLYN      469   \n",
       "113844  30191841  DJ REYNOLDS PUB AND RESTAURANT  MANHATTAN      351   \n",
       "212732  40356018                RIVIERA CATERERS   BROOKLYN     2780   \n",
       "5948    40356151         BRUNOS ON THE BOULEVARD     QUEENS     8825   \n",
       "\n",
       "                   STREET  ZIPCODE       PHONE CUISINE DESCRIPTION  \\\n",
       "71960     MORRIS PARK AVE  10462.0  7188924968              Bakery   \n",
       "119570    FLATBUSH AVENUE  11225.0  7182875005          Hamburgers   \n",
       "113844   WEST   57 STREET  10019.0  2122452912               Irish   \n",
       "212732   STILLWELL AVENUE  11224.0  7183723031            American   \n",
       "5948    ASTORIA BOULEVARD  11369.0  7183350505            American   \n",
       "\n",
       "       INSPECTION_DATE                                           ACTION  \\\n",
       "71960       2018-05-11  Violations were cited in the following area(s).   \n",
       "119570      2019-03-04  Violations were cited in the following area(s).   \n",
       "113844      2018-05-16  Violations were cited in the following area(s).   \n",
       "212732      2018-10-30  Violations were cited in the following area(s).   \n",
       "5948        2018-10-06  Violations were cited in the following area(s).   \n",
       "\n",
       "       VIOLATION CODE                              VIOLATION DESCRIPTION  \\\n",
       "71960             10F  Non-food contact surface improperly constructe...   \n",
       "119570            10B  Plumbing not properly installed or maintained;...   \n",
       "113844            08A  Facility not vermin proof. Harborage or condit...   \n",
       "212732            10F  Non-food contact surface improperly constructe...   \n",
       "5948              04H  Raw, cooked or prepared food is adulterated, c...   \n",
       "\n",
       "       CRITICAL FLAG  SCORE GRADE  GRADE DATE RECORD DATE  \\\n",
       "71960   Not Critical    5.0     A  05/11/2018  03/20/2019   \n",
       "119570  Not Critical   13.0     A  03/04/2019  03/20/2019   \n",
       "113844  Not Critical   12.0     A  05/16/2018  03/20/2019   \n",
       "212732  Not Critical   10.0     A  10/30/2018  03/20/2019   \n",
       "5948        Critical   45.0   NaN         NaN  03/20/2019   \n",
       "\n",
       "                              INSPECTION_TYPE  \n",
       "71960   Cycle Inspection / Initial Inspection  \n",
       "119570  Cycle Inspection / Initial Inspection  \n",
       "113844  Cycle Inspection / Initial Inspection  \n",
       "212732  Cycle Inspection / Initial Inspection  \n",
       "5948    Cycle Inspection / Initial Inspection  "
      ]
     },
     "execution_count": 15,
     "metadata": {},
     "output_type": "execute_result"
    }
   ],
   "source": [
    "#change values \"Inspection date\" column to datetime format\n",
    "current_nyc_cycle['INSPECTION_DATE'] = pd.to_datetime(current_nyc_cycle['INSPECTION_DATE'])\n",
    "#group data by CAMIS (unique identifer) based on latest inspection date\n",
    "final_nyc_inspect = current_nyc_cycle.loc[current_nyc_cycle.groupby('CAMIS')['INSPECTION_DATE'].idxmax()]\n",
    "final_nyc_inspect.head()"
   ]
  },
  {
   "cell_type": "code",
   "execution_count": 23,
   "metadata": {},
   "outputs": [
    {
     "data": {
      "text/plain": [
       "22770"
      ]
     },
     "execution_count": 23,
     "metadata": {},
     "output_type": "execute_result"
    }
   ],
   "source": [
    "#total number of unique establishments\n",
    "final_nyc_inspect[\"CAMIS\"].count()"
   ]
  },
  {
   "cell_type": "code",
   "execution_count": 12,
   "metadata": {},
   "outputs": [],
   "source": [
    "#Write final data frame to csv file\n",
    "final_nyc_inspect.to_csv(\"final_nyc_inspect.csv\", index=False, header=True)"
   ]
  },
  {
   "cell_type": "code",
   "execution_count": 24,
   "metadata": {},
   "outputs": [
    {
     "data": {
      "text/plain": [
       "85"
      ]
     },
     "execution_count": 24,
     "metadata": {},
     "output_type": "execute_result"
    }
   ],
   "source": [
    "#total number of cuisine types\n",
    "rest_num_cuisine = final_nyc_inspect[\"CUISINE DESCRIPTION\"].value_counts()\n",
    "len(rest_num_cuisine)"
   ]
  },
  {
   "cell_type": "code",
   "execution_count": 10,
   "metadata": {
    "scrolled": true
   },
   "outputs": [
    {
     "data": {
      "text/plain": [
       "Violations were cited in the following area(s).                                                                                        360738\n",
       "Establishment Closed by DOHMH.  Violations were cited in the following area(s) and those requiring immediate action were addressed.     13531\n",
       "No violations were recorded at the time of this inspection.                                                                              4525\n",
       "Establishment re-opened by DOHMH                                                                                                         3849\n",
       "Establishment re-closed by DOHMH                                                                                                         1324\n",
       "Name: ACTION, dtype: int64"
      ]
     },
     "execution_count": 10,
     "metadata": {},
     "output_type": "execute_result"
    }
   ],
   "source": [
    "#number of occurence by \"action\"\n",
    "rest_num_CAMIS = nyc_inspect[\"ACTION\"].value_counts()\n",
    "rest_num_CAMIS"
   ]
  },
  {
   "cell_type": "code",
   "execution_count": 33,
   "metadata": {},
   "outputs": [
    {
     "name": "stderr",
     "output_type": "stream",
     "text": [
      "C:\\Users\\Owner\\Anaconda3\\lib\\site-packages\\ipykernel_launcher.py:2: UserWarning: Boolean Series key will be reindexed to match DataFrame index.\n",
      "  \n"
     ]
    },
    {
     "data": {
      "text/plain": [
       "Violations were cited in the following area(s).    305084\n",
       "Name: ACTION, dtype: int64"
      ]
     },
     "execution_count": 33,
     "metadata": {},
     "output_type": "execute_result"
    }
   ],
   "source": [
    "#filter out no violation, close, open, re-close, & re-open \"Action\" types\n",
    "violation_no_open_close1 = current_nyc_cycle[current_nyc_inspect.ACTION.str.contains('Establishment') == False]\n",
    "violation_no_open_close = violation_no_open_close1[violation_no_open_close1.ACTION.str.contains('No') == False]\n",
    "violation_no_open_close[\"ACTION\"].value_counts()"
   ]
  },
  {
   "cell_type": "code",
   "execution_count": 35,
   "metadata": {},
   "outputs": [
    {
     "data": {
      "text/html": [
       "<div>\n",
       "<style scoped>\n",
       "    .dataframe tbody tr th:only-of-type {\n",
       "        vertical-align: middle;\n",
       "    }\n",
       "\n",
       "    .dataframe tbody tr th {\n",
       "        vertical-align: top;\n",
       "    }\n",
       "\n",
       "    .dataframe thead th {\n",
       "        text-align: right;\n",
       "    }\n",
       "</style>\n",
       "<table border=\"1\" class=\"dataframe\">\n",
       "  <thead>\n",
       "    <tr style=\"text-align: right;\">\n",
       "      <th></th>\n",
       "      <th>viocount</th>\n",
       "    </tr>\n",
       "    <tr>\n",
       "      <th>CAMIS</th>\n",
       "      <th></th>\n",
       "    </tr>\n",
       "  </thead>\n",
       "  <tbody>\n",
       "    <tr>\n",
       "      <th>30075445</th>\n",
       "      <td>6</td>\n",
       "    </tr>\n",
       "    <tr>\n",
       "      <th>30112340</th>\n",
       "      <td>20</td>\n",
       "    </tr>\n",
       "    <tr>\n",
       "      <th>30191841</th>\n",
       "      <td>14</td>\n",
       "    </tr>\n",
       "    <tr>\n",
       "      <th>40356018</th>\n",
       "      <td>7</td>\n",
       "    </tr>\n",
       "    <tr>\n",
       "      <th>40356151</th>\n",
       "      <td>8</td>\n",
       "    </tr>\n",
       "  </tbody>\n",
       "</table>\n",
       "</div>"
      ],
      "text/plain": [
       "          viocount\n",
       "CAMIS             \n",
       "30075445         6\n",
       "30112340        20\n",
       "30191841        14\n",
       "40356018         7\n",
       "40356151         8"
      ]
     },
     "execution_count": 35,
     "metadata": {},
     "output_type": "execute_result"
    }
   ],
   "source": [
    "#calculate total violation count per CAMIS \n",
    "violation = violation_no_open_close.groupby([\"CAMIS\"])[\"ACTION\"].count()\n",
    "violation_df = violation.to_frame(name=\"viocount\")"
   ]
  },
  {
   "cell_type": "code",
   "execution_count": 38,
   "metadata": {},
   "outputs": [],
   "source": [
    "# create bins\n",
    "bins = [0, 5, 10, 15, 20, 25, 30, 35, 40, 45, 50, 55, 60, 65, 70, 75]\n",
    "\n",
    "#create names for the bins\n",
    "group_names = [\"0-5\", \"5-10\", \"10-15\", \"15-20\", \"20-25\", \"25-30\", \"30-35\", \"35-40\", \"40-45\", \"45-50\", \"50-55\", \"55-60\", \"60-65\", \"65-70\", \"70-75\" ]"
   ]
  },
  {
   "cell_type": "code",
   "execution_count": 44,
   "metadata": {
    "scrolled": true
   },
   "outputs": [
    {
     "data": {
      "text/plain": [
       "5-10     5600\n",
       "0-5      4754\n",
       "10-15    4621\n",
       "15-20    3164\n",
       "20-25    2054\n",
       "25-30    1281\n",
       "30-35     648\n",
       "35-40     317\n",
       "40-45     181\n",
       "45-50      65\n",
       "50-55      37\n",
       "55-60      11\n",
       "60-65       5\n",
       "65-70       4\n",
       "70-75       2\n",
       "Name: count, dtype: int64"
      ]
     },
     "execution_count": 44,
     "metadata": {},
     "output_type": "execute_result"
    }
   ],
   "source": [
    "# frequency of violations\n",
    "violation_df[\"count\"] = pd.cut(violation_df[\"Viocount\"], bins, labels=group_names)\n",
    "violation_df[\"count\"].value_counts()"
   ]
  },
  {
   "cell_type": "markdown",
   "metadata": {},
   "source": [
    "# Statistical Analyses"
   ]
  },
  {
   "cell_type": "markdown",
   "metadata": {},
   "source": [
    "### 1. Regression analysis to determine if \"violation count\" is correlated with \"inspection score. "
   ]
  },
  {
   "cell_type": "code",
   "execution_count": 72,
   "metadata": {},
   "outputs": [],
   "source": [
    "#create \"score\" dataframe\n",
    "score = final_nyc_inspect[[\"CAMIS\", \"SCORE\"]]\n",
    "score.set_index(\"CAMIS\", inplace=True)"
   ]
  },
  {
   "cell_type": "code",
   "execution_count": 74,
   "metadata": {},
   "outputs": [
    {
     "data": {
      "text/html": [
       "<div>\n",
       "<style scoped>\n",
       "    .dataframe tbody tr th:only-of-type {\n",
       "        vertical-align: middle;\n",
       "    }\n",
       "\n",
       "    .dataframe tbody tr th {\n",
       "        vertical-align: top;\n",
       "    }\n",
       "\n",
       "    .dataframe thead th {\n",
       "        text-align: right;\n",
       "    }\n",
       "</style>\n",
       "<table border=\"1\" class=\"dataframe\">\n",
       "  <thead>\n",
       "    <tr style=\"text-align: right;\">\n",
       "      <th></th>\n",
       "      <th>viocount</th>\n",
       "      <th>SCORE</th>\n",
       "    </tr>\n",
       "    <tr>\n",
       "      <th>CAMIS</th>\n",
       "      <th></th>\n",
       "      <th></th>\n",
       "    </tr>\n",
       "  </thead>\n",
       "  <tbody>\n",
       "    <tr>\n",
       "      <th>30075445</th>\n",
       "      <td>6.0</td>\n",
       "      <td>5.0</td>\n",
       "    </tr>\n",
       "    <tr>\n",
       "      <th>30112340</th>\n",
       "      <td>20.0</td>\n",
       "      <td>13.0</td>\n",
       "    </tr>\n",
       "    <tr>\n",
       "      <th>30191841</th>\n",
       "      <td>14.0</td>\n",
       "      <td>12.0</td>\n",
       "    </tr>\n",
       "    <tr>\n",
       "      <th>40356018</th>\n",
       "      <td>7.0</td>\n",
       "      <td>10.0</td>\n",
       "    </tr>\n",
       "    <tr>\n",
       "      <th>40356151</th>\n",
       "      <td>8.0</td>\n",
       "      <td>45.0</td>\n",
       "    </tr>\n",
       "  </tbody>\n",
       "</table>\n",
       "</div>"
      ],
      "text/plain": [
       "          viocount  SCORE\n",
       "CAMIS                    \n",
       "30075445       6.0    5.0\n",
       "30112340      20.0   13.0\n",
       "30191841      14.0   12.0\n",
       "40356018       7.0   10.0\n",
       "40356151       8.0   45.0"
      ]
     },
     "execution_count": 74,
     "metadata": {},
     "output_type": "execute_result"
    }
   ],
   "source": [
    "#merge score dataframe with violation count dataframe\n",
    "score_vio_count = pd.merge(violation_df, score, on=\"CAMIS\", how=\"outer\")\n",
    "score_vio_count = score_vio_count.dropna(how='any')\n",
    "score_vio_count.head()"
   ]
  },
  {
   "cell_type": "code",
   "execution_count": 55,
   "metadata": {},
   "outputs": [],
   "source": [
    "#import libraries\n",
    "from matplotlib import pyplot as plt\n",
    "from scipy.stats import linregress"
   ]
  },
  {
   "cell_type": "code",
   "execution_count": 76,
   "metadata": {},
   "outputs": [
    {
     "name": "stdout",
     "output_type": "stream",
     "text": [
      "R value is 0.3071984368504232 and R squared is 0.09437087960334345\n"
     ]
    }
   ],
   "source": [
    "#run regression analysis to calculate r-squared\n",
    "\n",
    "x_axis = score_vio_count[\"viocount\"]\n",
    "y_axis = score_vio_count[\"SCORE\"]\n",
    "slope, intercept, r_value, p_value, std_err = linregress(x_axis, y_axis)\n",
    "r_squared = r_value**2\n",
    "print(f\"R value is {r_value} and R squared is {r_squared}\")"
   ]
  },
  {
   "cell_type": "markdown",
   "metadata": {},
   "source": [
    "#### Insights from the above regression analysis:\n",
    "Intuitively, establishments' number of violations should be highly correlated with their inspection score. However, regression analysis showed that their r-value is only 0.307 with a r-square of 0.0943. This can be explained by \"Each violation is associated with a range of points depending on the type and extent of the violation, and the risk it poses to the public.\" Based on this analysis, we have concluded that \"SCORE\" is a more accurate measure than \"# of violations\", therefore, we should use \"SCORE\" for our analysis."
   ]
  },
  {
   "cell_type": "markdown",
   "metadata": {},
   "source": [
    "### 2. Null Hypothesis t test"
   ]
  },
  {
   "cell_type": "markdown",
   "metadata": {},
   "source": [
    "#### Hypothesis - If highly rated restaurants are clean restaurants, then 4 to 5-star restaurants in Yelp will have an inspection score of less than 15. \n",
    "\n",
    "#### Null Hypothesis - If highly rated restaurants are as clean as all other restaurants, then 4 to 5-star restaurants in Yelp will have various inspection scores. "
   ]
  },
  {
   "cell_type": "code",
   "execution_count": 10,
   "metadata": {},
   "outputs": [
    {
     "data": {
      "text/html": [
       "<div>\n",
       "<style scoped>\n",
       "    .dataframe tbody tr th:only-of-type {\n",
       "        vertical-align: middle;\n",
       "    }\n",
       "\n",
       "    .dataframe tbody tr th {\n",
       "        vertical-align: top;\n",
       "    }\n",
       "\n",
       "    .dataframe thead th {\n",
       "        text-align: right;\n",
       "    }\n",
       "</style>\n",
       "<table border=\"1\" class=\"dataframe\">\n",
       "  <thead>\n",
       "    <tr style=\"text-align: right;\">\n",
       "      <th></th>\n",
       "      <th>CAMIS</th>\n",
       "      <th>DBA</th>\n",
       "      <th>BORO</th>\n",
       "      <th>BUILDING</th>\n",
       "      <th>STREET</th>\n",
       "      <th>ZIPCODE</th>\n",
       "      <th>PHONE</th>\n",
       "      <th>CUISINE DESCRIPTION</th>\n",
       "      <th>INSPECTION_DATE</th>\n",
       "      <th>ACTION</th>\n",
       "      <th>...</th>\n",
       "      <th>SCORE</th>\n",
       "      <th>GRADE</th>\n",
       "      <th>GRADE DATE</th>\n",
       "      <th>RECORD DATE</th>\n",
       "      <th>INSPECTION_TYPE</th>\n",
       "      <th>Average Rating</th>\n",
       "      <th>Price</th>\n",
       "      <th>Review_Count</th>\n",
       "      <th>PriceQ</th>\n",
       "      <th>boro_color</th>\n",
       "    </tr>\n",
       "  </thead>\n",
       "  <tbody>\n",
       "    <tr>\n",
       "      <th>0</th>\n",
       "      <td>30075445</td>\n",
       "      <td>MORRIS PARK BAKE SHOP</td>\n",
       "      <td>BRONX</td>\n",
       "      <td>1007</td>\n",
       "      <td>MORRIS PARK AVE</td>\n",
       "      <td>10462.0</td>\n",
       "      <td>7188924968</td>\n",
       "      <td>Bakery</td>\n",
       "      <td>2018-05-11</td>\n",
       "      <td>Violations were cited in the following area(s).</td>\n",
       "      <td>...</td>\n",
       "      <td>5.0</td>\n",
       "      <td>A</td>\n",
       "      <td>05/11/2018</td>\n",
       "      <td>03/20/2019</td>\n",
       "      <td>Cycle Inspection / Initial Inspection</td>\n",
       "      <td>4.0</td>\n",
       "      <td>$$</td>\n",
       "      <td>41</td>\n",
       "      <td>2</td>\n",
       "      <td>blue</td>\n",
       "    </tr>\n",
       "    <tr>\n",
       "      <th>1</th>\n",
       "      <td>30112340</td>\n",
       "      <td>WENDY'S</td>\n",
       "      <td>BROOKLYN</td>\n",
       "      <td>469</td>\n",
       "      <td>FLATBUSH AVENUE</td>\n",
       "      <td>11225.0</td>\n",
       "      <td>7182875005</td>\n",
       "      <td>Hamburgers</td>\n",
       "      <td>2019-03-04</td>\n",
       "      <td>Violations were cited in the following area(s).</td>\n",
       "      <td>...</td>\n",
       "      <td>13.0</td>\n",
       "      <td>A</td>\n",
       "      <td>03/04/2019</td>\n",
       "      <td>03/20/2019</td>\n",
       "      <td>Cycle Inspection / Initial Inspection</td>\n",
       "      <td>2.0</td>\n",
       "      <td>$</td>\n",
       "      <td>36</td>\n",
       "      <td>1</td>\n",
       "      <td>green</td>\n",
       "    </tr>\n",
       "    <tr>\n",
       "      <th>2</th>\n",
       "      <td>30191841</td>\n",
       "      <td>DJ REYNOLDS PUB AND RESTAURANT</td>\n",
       "      <td>MANHATTAN</td>\n",
       "      <td>351</td>\n",
       "      <td>WEST   57 STREET</td>\n",
       "      <td>10019.0</td>\n",
       "      <td>2122452912</td>\n",
       "      <td>Irish</td>\n",
       "      <td>2018-05-16</td>\n",
       "      <td>Violations were cited in the following area(s).</td>\n",
       "      <td>...</td>\n",
       "      <td>12.0</td>\n",
       "      <td>A</td>\n",
       "      <td>05/16/2018</td>\n",
       "      <td>03/20/2019</td>\n",
       "      <td>Cycle Inspection / Initial Inspection</td>\n",
       "      <td>3.5</td>\n",
       "      <td>$$</td>\n",
       "      <td>99</td>\n",
       "      <td>2</td>\n",
       "      <td>aqua</td>\n",
       "    </tr>\n",
       "    <tr>\n",
       "      <th>3</th>\n",
       "      <td>40356483</td>\n",
       "      <td>WILKEN'S FINE FOOD</td>\n",
       "      <td>BROOKLYN</td>\n",
       "      <td>7114</td>\n",
       "      <td>AVENUE U</td>\n",
       "      <td>11234.0</td>\n",
       "      <td>7184443838</td>\n",
       "      <td>Delicatessen</td>\n",
       "      <td>2018-05-10</td>\n",
       "      <td>Violations were cited in the following area(s).</td>\n",
       "      <td>...</td>\n",
       "      <td>13.0</td>\n",
       "      <td>A</td>\n",
       "      <td>05/10/2018</td>\n",
       "      <td>03/20/2019</td>\n",
       "      <td>Cycle Inspection / Initial Inspection</td>\n",
       "      <td>3.5</td>\n",
       "      <td>$$</td>\n",
       "      <td>37</td>\n",
       "      <td>2</td>\n",
       "      <td>green</td>\n",
       "    </tr>\n",
       "    <tr>\n",
       "      <th>4</th>\n",
       "      <td>40356731</td>\n",
       "      <td>TASTE THE TROPICS ICE CREAM</td>\n",
       "      <td>BROOKLYN</td>\n",
       "      <td>1839</td>\n",
       "      <td>NOSTRAND AVENUE</td>\n",
       "      <td>11226.0</td>\n",
       "      <td>7188560821</td>\n",
       "      <td>Ice Cream, Gelato, Yogurt, Ices</td>\n",
       "      <td>2018-05-16</td>\n",
       "      <td>Violations were cited in the following area(s).</td>\n",
       "      <td>...</td>\n",
       "      <td>13.0</td>\n",
       "      <td>A</td>\n",
       "      <td>05/16/2018</td>\n",
       "      <td>03/20/2019</td>\n",
       "      <td>Cycle Inspection / Initial Inspection</td>\n",
       "      <td>4.5</td>\n",
       "      <td>$</td>\n",
       "      <td>31</td>\n",
       "      <td>1</td>\n",
       "      <td>green</td>\n",
       "    </tr>\n",
       "  </tbody>\n",
       "</table>\n",
       "<p>5 rows × 23 columns</p>\n",
       "</div>"
      ],
      "text/plain": [
       "      CAMIS                             DBA       BORO BUILDING  \\\n",
       "0  30075445           MORRIS PARK BAKE SHOP      BRONX     1007   \n",
       "1  30112340                         WENDY'S   BROOKLYN      469   \n",
       "2  30191841  DJ REYNOLDS PUB AND RESTAURANT  MANHATTAN      351   \n",
       "3  40356483              WILKEN'S FINE FOOD   BROOKLYN     7114   \n",
       "4  40356731     TASTE THE TROPICS ICE CREAM   BROOKLYN     1839   \n",
       "\n",
       "             STREET  ZIPCODE       PHONE              CUISINE DESCRIPTION  \\\n",
       "0   MORRIS PARK AVE  10462.0  7188924968                           Bakery   \n",
       "1   FLATBUSH AVENUE  11225.0  7182875005                       Hamburgers   \n",
       "2  WEST   57 STREET  10019.0  2122452912                            Irish   \n",
       "3          AVENUE U  11234.0  7184443838                     Delicatessen   \n",
       "4   NOSTRAND AVENUE  11226.0  7188560821  Ice Cream, Gelato, Yogurt, Ices   \n",
       "\n",
       "  INSPECTION_DATE                                           ACTION    ...      \\\n",
       "0      2018-05-11  Violations were cited in the following area(s).    ...       \n",
       "1      2019-03-04  Violations were cited in the following area(s).    ...       \n",
       "2      2018-05-16  Violations were cited in the following area(s).    ...       \n",
       "3      2018-05-10  Violations were cited in the following area(s).    ...       \n",
       "4      2018-05-16  Violations were cited in the following area(s).    ...       \n",
       "\n",
       "  SCORE GRADE  GRADE DATE  RECORD DATE                        INSPECTION_TYPE  \\\n",
       "0   5.0     A  05/11/2018   03/20/2019  Cycle Inspection / Initial Inspection   \n",
       "1  13.0     A  03/04/2019   03/20/2019  Cycle Inspection / Initial Inspection   \n",
       "2  12.0     A  05/16/2018   03/20/2019  Cycle Inspection / Initial Inspection   \n",
       "3  13.0     A  05/10/2018   03/20/2019  Cycle Inspection / Initial Inspection   \n",
       "4  13.0     A  05/16/2018   03/20/2019  Cycle Inspection / Initial Inspection   \n",
       "\n",
       "  Average Rating Price Review_Count  PriceQ boro_color  \n",
       "0            4.0    $$           41       2       blue  \n",
       "1            2.0     $           36       1      green  \n",
       "2            3.5    $$           99       2       aqua  \n",
       "3            3.5    $$           37       2      green  \n",
       "4            4.5     $           31       1      green  \n",
       "\n",
       "[5 rows x 23 columns]"
      ]
     },
     "execution_count": 10,
     "metadata": {},
     "output_type": "execute_result"
    }
   ],
   "source": [
    "#read csv file with all NYC inspection and Yelp data\n",
    "hypothesis = pd.read_csv(\"nyc_pr_20k_plus_colorsprice.csv\")\n",
    "hypothesis.head()"
   ]
  },
  {
   "cell_type": "code",
   "execution_count": 11,
   "metadata": {},
   "outputs": [],
   "source": [
    "#create first group named \"population\" include all restaurants with their inspection scores\n",
    "population = hypothesis[\"SCORE\"]"
   ]
  },
  {
   "cell_type": "code",
   "execution_count": 13,
   "metadata": {},
   "outputs": [],
   "source": [
    "#create second group named \"sample\" include only restaurants with ratings 4 or higher and their inspection scores\n",
    "sample = hypothesis.loc[hypothesis[\"Average Rating\"] >= 4,[\"SCORE\"]]\n",
    "sample = sample[\"SCORE\"]"
   ]
  },
  {
   "cell_type": "code",
   "execution_count": 7,
   "metadata": {},
   "outputs": [
    {
     "data": {
      "text/plain": [
       "<matplotlib.legend.Legend at 0x268bc59c3c8>"
      ]
     },
     "execution_count": 7,
     "metadata": {},
     "output_type": "execute_result"
    },
    {
     "data": {
      "image/png": "[encoded data removed]",
      "text/plain": [
       "<Figure size 432x288 with 2 Axes>"
      ]
     },
     "metadata": {
      "needs_background": "light"
     },
     "output_type": "display_data"
    }
   ],
   "source": [
    "# Scatter Plot of Data\n",
    "plt.subplot(2, 1, 1)\n",
    "plt.scatter(range(len(population)), population, label=\"population\")\n",
    "plt.scatter(range(len(sample)), sample, label=\"highly rated\")\n",
    "plt.legend()\n",
    "\n",
    "# Histogram Plot of Data\n",
    "plt.subplot(2, 1, 2)\n",
    "plt.hist(population, 20, alpha=0.8, density=True, align=\"mid\", label=\"population\")\n",
    "plt.hist(sample, 20, alpha=0.6, density=True, align=\"mid\", label=\"highly rated\")\n",
    "plt.xlim(0, 50)\n",
    "plt.axvline(population.mean(), color='w', linestyle='dashed', linewidth=1)\n",
    "plt.axvline(sample.mean(), color='b', linestyle='dashed', linewidth=1)\n",
    "plt.legend()    "
   ]
  },
  {
   "cell_type": "code",
   "execution_count": 14,
   "metadata": {},
   "outputs": [
    {
     "data": {
      "text/plain": [
       "Ttest_1sampResult(statistic=-1.5097937259811067, pvalue=0.1311494890180032)"
      ]
     },
     "execution_count": 14,
     "metadata": {},
     "output_type": "execute_result"
    }
   ],
   "source": [
    "#perform t test\n",
    "stats.ttest_1samp(sample, population.mean())"
   ]
  },
  {
   "cell_type": "code",
   "execution_count": null,
   "metadata": {},
   "outputs": [],
   "source": []
  }
 ],
 "metadata": {
  "kernelspec": {
   "display_name": "Python 3",
   "language": "python",
   "name": "python3"
  },
  "language_info": {
   "codemirror_mode": {
    "name": "ipython",
    "version": 3
   },
   "file_extension": ".py",
   "mimetype": "text/x-python",
   "name": "python",
   "nbconvert_exporter": "python",
   "pygments_lexer": "ipython3",
   "version": "3.7.1"
  }
 },
 "nbformat": 4,
 "nbformat_minor": 2
}
